{
 "cells": [
  {
   "cell_type": "markdown",
   "metadata": {},
   "source": [
    "# Train Triplet Loss Model"
   ]
  },
  {
   "cell_type": "markdown",
   "metadata": {},
   "source": [
    "Clone this repo and add to system path: http://github.com/adambielski/siamese-triplet"
   ]
  },
  {
   "cell_type": "markdown",
   "metadata": {},
   "source": [
    "## Imports"
   ]
  },
  {
   "cell_type": "code",
   "execution_count": 1,
   "metadata": {},
   "outputs": [
    {
     "name": "stdout",
     "output_type": "stream",
     "text": [
      "True\n"
     ]
    }
   ],
   "source": [
    "import torchvision.datasets as datasets\n",
    "import numpy as np\n",
    "import os\n",
    "import matplotlib.patches as patches\n",
    "import pandas as pd\n",
    "import matplotlib.pyplot as plt\n",
    "from sklearn import metrics\n",
    "import seaborn as sns\n",
    "\n",
    "from emd import emd\n",
    "\n",
    "import torch\n",
    "from torch.optim import lr_scheduler\n",
    "import torch.optim as optim\n",
    "from torch.autograd import Variable\n",
    "import torch.nn as nn\n",
    "import torch.nn.functional as F\n",
    "\n",
    "import numpy as np\n",
    "cuda = torch.cuda.is_available()\n",
    "print(cuda)"
   ]
  },
  {
   "cell_type": "code",
   "execution_count": 2,
   "metadata": {},
   "outputs": [],
   "source": [
    "import sys\n",
    "sys.path.insert(0, \"C:/Grad_School/Code_and_software/Py_code/similarity_scoring/syllable_triplet_network/siamese-triplet-scripts\")"
   ]
  },
  {
   "cell_type": "code",
   "execution_count": 3,
   "metadata": {},
   "outputs": [],
   "source": [
    "# Set up network and training parameters\n",
    "#from networks import EmbeddingNet\n",
    "from losses import OnlineTripletLoss\n",
    "from utils import AllTripletSelector, HardestNegativeTripletSelector, RandomNegativeTripletSelector, SemihardNegativeTripletSelector\n",
    "from metrics import AverageNonzeroTripletsMetric\n",
    "from datasets import BalancedBatchSampler"
   ]
  },
  {
   "cell_type": "code",
   "execution_count": 4,
   "metadata": {},
   "outputs": [],
   "source": [
    "from custom_scripts.Therese_auto_mixed_precision_funcs import *\n",
    "from custom_scripts.Therese_eval_funcs import *\n",
    "from custom_scripts.Therese_inception_network_blocks import *\n",
    "from custom_scripts.Therese_training_funcs import *"
   ]
  },
  {
   "cell_type": "markdown",
   "metadata": {},
   "source": [
    "## Prep Training Data"
   ]
  },
  {
   "cell_type": "code",
   "execution_count": 5,
   "metadata": {},
   "outputs": [
    {
     "data": {
      "text/plain": [
       "36"
      ]
     },
     "execution_count": 5,
     "metadata": {},
     "output_type": "execute_result"
    }
   ],
   "source": [
    "All_FP1_Birds = [\"B145\", \"B236\", \"B258\", \"B385\", \"B402\", \"B447\", \n",
    "             \"B507\", \"G255\", \"G397\", \"G402\", \"G413\", \"G437\", \n",
    "             \"G439\", \"G524\", \"G528\", \"O144\", \"O254\", \"O421\", \n",
    "             \"O440\", \"O512\", \"R402\", \"R425\", \"R469\", \"S132\", \n",
    "             \"S421\", \"S525\", \"S528\", \"Y389\", \"Y397\", \"Y425\", \n",
    "             \"Y440\", \"B524\", \"O434\", \"S389\", \"Y433\", \"Y453\"] \n",
    "\n",
    "#All_Birds should contain 36 bird IDs. Check: \n",
    "len(All_FP1_Birds)"
   ]
  },
  {
   "cell_type": "code",
   "execution_count": 6,
   "metadata": {},
   "outputs": [],
   "source": [
    "all_birds_dir = \"C:/Grad_School/Code_and_software/Py_code/Syll_specs_hand_seg_narrow_bandpass_70/\"\n",
    "\n",
    "Bird_ID = \"G402\""
   ]
  },
  {
   "cell_type": "code",
   "execution_count": 7,
   "metadata": {},
   "outputs": [
    {
     "data": {
      "text/html": [
       "<div>\n",
       "<style scoped>\n",
       "    .dataframe tbody tr th:only-of-type {\n",
       "        vertical-align: middle;\n",
       "    }\n",
       "\n",
       "    .dataframe tbody tr th {\n",
       "        vertical-align: top;\n",
       "    }\n",
       "\n",
       "    .dataframe thead th {\n",
       "        text-align: right;\n",
       "    }\n",
       "</style>\n",
       "<table border=\"1\" class=\"dataframe\">\n",
       "  <thead>\n",
       "    <tr style=\"text-align: right;\">\n",
       "      <th></th>\n",
       "      <th>Bird_ID</th>\n",
       "      <th>Tutor_ID</th>\n",
       "      <th>Bird_Condition</th>\n",
       "      <th>Include</th>\n",
       "    </tr>\n",
       "  </thead>\n",
       "  <tbody>\n",
       "    <tr>\n",
       "      <th>0</th>\n",
       "      <td>G402</td>\n",
       "      <td>O314</td>\n",
       "      <td>FP1KD_post_tut</td>\n",
       "      <td>1</td>\n",
       "    </tr>\n",
       "    <tr>\n",
       "      <th>1</th>\n",
       "      <td>R402</td>\n",
       "      <td>O314</td>\n",
       "      <td>FP1KD_post_tut</td>\n",
       "      <td>1</td>\n",
       "    </tr>\n",
       "    <tr>\n",
       "      <th>2</th>\n",
       "      <td>G555</td>\n",
       "      <td>O314</td>\n",
       "      <td>Baseline</td>\n",
       "      <td>1</td>\n",
       "    </tr>\n",
       "    <tr>\n",
       "      <th>3</th>\n",
       "      <td>R629</td>\n",
       "      <td>O314</td>\n",
       "      <td>Baseline</td>\n",
       "      <td>1</td>\n",
       "    </tr>\n",
       "    <tr>\n",
       "      <th>4</th>\n",
       "      <td>Y653</td>\n",
       "      <td>O314</td>\n",
       "      <td>Baseline</td>\n",
       "      <td>1</td>\n",
       "    </tr>\n",
       "  </tbody>\n",
       "</table>\n",
       "</div>"
      ],
      "text/plain": [
       "  Bird_ID Tutor_ID  Bird_Condition  Include\n",
       "0    G402     O314  FP1KD_post_tut        1\n",
       "1    R402     O314  FP1KD_post_tut        1\n",
       "2    G555     O314        Baseline        1\n",
       "3    R629     O314        Baseline        1\n",
       "4    Y653     O314        Baseline        1"
      ]
     },
     "execution_count": 7,
     "metadata": {},
     "output_type": "execute_result"
    }
   ],
   "source": [
    "pairs_df = pd.read_csv(\"C:/Grad_School/Code_and_software/Py_code/similarity_scoring/tut_pupil_pairs_April_2022.csv\")\n",
    "\n",
    "pairs_df = pairs_df[pairs_df.Include == 1]\n",
    "pairs_df.head()"
   ]
  },
  {
   "cell_type": "code",
   "execution_count": 8,
   "metadata": {},
   "outputs": [
    {
     "data": {
      "text/plain": [
       "21"
      ]
     },
     "execution_count": 8,
     "metadata": {},
     "output_type": "execute_result"
    }
   ],
   "source": [
    "remaining_FP1_birds = set(All_FP1_Birds) - set(pairs_df.Bird_ID)\n",
    "len(remaining_FP1_birds)"
   ]
  },
  {
   "cell_type": "code",
   "execution_count": 9,
   "metadata": {},
   "outputs": [],
   "source": [
    "to_exclude = set(All_FP1_Birds) & set(pairs_df.Bird_ID)"
   ]
  },
  {
   "cell_type": "code",
   "execution_count": 10,
   "metadata": {},
   "outputs": [],
   "source": [
    "FP1_pairs_df = pd.read_csv(\"C:/Grad_School/Code_and_software/Py_code/similarity_scoring/syllable_triplet_network/all_FP1_Tutor_pupil_pairs.csv\")\n",
    "\n",
    "training_pairs_df = FP1_pairs_df[FP1_pairs_df.Bird_ID.isin(remaining_FP1_birds)]"
   ]
  },
  {
   "cell_type": "code",
   "execution_count": 11,
   "metadata": {},
   "outputs": [],
   "source": [
    "tutor_dict = dict(zip(training_pairs_df.Bird_ID, training_pairs_df.Tutor))"
   ]
  },
  {
   "cell_type": "code",
   "execution_count": 12,
   "metadata": {},
   "outputs": [],
   "source": [
    "#create test and train datasets\n",
    "train_dataset = CustomDatasetFolder(all_birds_dir, extensions=(\".npy\"), loader = np.load, \n",
    "                                    train = True, Bird_ID = Bird_ID, exclude = to_exclude)\n",
    "test_dataset = CustomDatasetFolder(all_birds_dir, extensions = (\".npy\"), loader = np.load, \n",
    "                                    train = False, Bird_ID = Bird_ID)\n",
    "\n",
    "train_dataset.train_labels = torch.Tensor([label for value, label in train_dataset])\n",
    "test_dataset.test_labels = torch.Tensor([label for value, label in test_dataset])"
   ]
  },
  {
   "cell_type": "markdown",
   "metadata": {},
   "source": [
    "## Test 2"
   ]
  },
  {
   "cell_type": "markdown",
   "metadata": {},
   "source": [
    "### Train Model"
   ]
  },
  {
   "cell_type": "code",
   "execution_count": 60,
   "metadata": {},
   "outputs": [],
   "source": [
    "class EmbeddingNet(nn.Module):\n",
    "    def __init__(self):\n",
    "        super(EmbeddingNet, self).__init__()\n",
    "\n",
    "        self.conv1 = nn.Sequential(nn.Conv2d(1, 32, 3), nn.ReLU())\n",
    "        self.MAM1 = InceptionBlock(32, 32, 16, 32, 16, 32, 16, 32)\n",
    "        self.conv2 = nn.Sequential(nn.Conv2d(128, 64, kernel_size= 3, stride = (2, 1)), nn.ReLU())\n",
    "        self.MAM2 = InceptionBlock(64, 32, 16, 32, 16, 32, 16, 32)\n",
    "        self.conv3 = nn.Sequential(nn.Conv2d(128, 64, 3, stride = (2, 1)), nn.ReLU())\n",
    "        self.MAM3 = InceptionBlock(64, 32, 16, 32, 16, 32, 16, 32)\n",
    "        self.conv4 = nn.Sequential(nn.Conv2d(128, 64, kernel_size=3, stride = (2, 1)), nn.ReLU())\n",
    "        self.MAM4 = InceptionBlock(64, 32, 16, 32, 16, 32, 16, 32)\n",
    "        self.conv5 = nn.Sequential(nn.Conv2d(128, 64, 3, stride = (2, 1)), nn.ReLU())\n",
    "        \n",
    "        #self.global_pool = nn.AvgPool2d(kernel_size= ) the global pooling reduces the output to a vector of length 64. \n",
    "            #to figure out the kernel size necessary to do that I need to know the dimensions of the input and I currently have no clue what that would be\n",
    "\n",
    "        self.global_pool = nn.AvgPool2d(kernel_size = (1, 4), stride = 4)\n",
    "\n",
    "        self.fc = nn.Sequential(nn.Linear(960, 256),\n",
    "                                nn.ReLU(),\n",
    "                                 \n",
    "                                nn.Linear(256, 128),\n",
    "                                nn.ReLU(),\n",
    "                                 \n",
    "                                nn.Linear(128, 8)\n",
    "                                )\n",
    "\n",
    "\n",
    "    def forward(self, x):\n",
    "        x = torch.unsqueeze(x, 1).float()\n",
    "        x = self.conv1(x)\n",
    "        x = self.MAM1(x)\n",
    "        x = self.conv2(x)\n",
    "        x = self.MAM2(x)\n",
    "        x = self.conv3(x)\n",
    "        x = self.MAM3(x)\n",
    "        x = self.conv4(x)\n",
    "        x = self.MAM4(x)\n",
    "        x = self.conv5(x)\n",
    "    \n",
    "        x = self.global_pool(x)\n",
    "        x = x.view(x.size()[0], -1)\n",
    "\n",
    "        x = self.fc(x)\n",
    "\n",
    "        x = F.normalize(x, p = 2, dim = 1)\n",
    "        \n",
    "\n",
    "        return x\n",
    "        \n",
    "    def get_embedding(self, x):\n",
    "        return self.forward(x)"
   ]
  },
  {
   "cell_type": "code",
   "execution_count": 61,
   "metadata": {},
   "outputs": [],
   "source": [
    "#create data sampler and loader\n",
    "train_batch_sampler = BalancedBatchSampler(train_dataset.train_labels, 45, n_samples = 20)\n",
    "test_batch_sampler = BalancedBatchSampler(test_dataset.test_labels, len(test_dataset.classes), n_samples = 20)\n",
    "\n",
    "online_train_loader = torch.utils.data.DataLoader(train_dataset, batch_sampler = train_batch_sampler)\n",
    "online_test_loader = torch.utils.data.DataLoader(test_dataset, batch_sampler = test_batch_sampler)"
   ]
  },
  {
   "cell_type": "code",
   "execution_count": 128,
   "metadata": {},
   "outputs": [],
   "source": [
    "#configure model\n",
    "embedding_net = EmbeddingNet()\n",
    "model = embedding_net \n",
    "if cuda:\n",
    "    model.cuda()\n",
    "\n",
    "n_epochs = 30\n",
    "margin_selector = MetricThresholdMargin(min_margin = 0.1, max_margin = 0.7, margin_step = 0.2, metric_threshold = 2500)\n",
    "\n",
    "lr = 1e-3\n",
    "optimizer = optim.Adam(model.parameters(), lr=lr, weight_decay = 1e-4)\n",
    "scheduler = lr_scheduler.StepLR(optimizer, 8, gamma = 0.1, last_epoch = -1)\n",
    "log_interval = 50"
   ]
  },
  {
   "cell_type": "code",
   "execution_count": 63,
   "metadata": {},
   "outputs": [],
   "source": [
    "triplet_selector = NoSibsPropSemihardTripletSelector(margin = margin_selector.current_margin, \n",
    "                                                    prop_semihard = 0.75, \n",
    "                                                    idx_to_class= train_dataset.idx_to_class, \n",
    "                                                    pup_tut_dict=tutor_dict)\n",
    "loss_fn = OnlineTripletLoss(margin_selector, triplet_selector)"
   ]
  },
  {
   "cell_type": "code",
   "execution_count": 64,
   "metadata": {},
   "outputs": [
    {
     "name": "stderr",
     "output_type": "stream",
     "text": [
      "c:\\Users\\tkoch\\anaconda3\\envs\\pyemd_env\\lib\\site-packages\\torch\\optim\\lr_scheduler.py:131: UserWarning: Detected call of `lr_scheduler.step()` before `optimizer.step()`. In PyTorch 1.1.0 and later, you should call them in the opposite order: `optimizer.step()` before `lr_scheduler.step()`.  Failure to do this will result in PyTorch skipping the first value of the learning rate schedule. See more details at https://pytorch.org/docs/stable/optim.html#how-to-adjust-learning-rate\n",
      "  warnings.warn(\"Detected call of `lr_scheduler.step()` before `optimizer.step()`. \"\n"
     ]
    },
    {
     "name": "stdout",
     "output_type": "stream",
     "text": [
      "Train: [0/16420 (0%)]\tLoss: 0.079087\tAverage nonzero triplets: 8100.0\n",
      "Epoch: 1/30. Train set: Average loss: 0.0831\tAverage nonzero triplets: 7413.277777777777\n",
      "Epoch: 1/30. Validation set: Average loss: 0.0999\tAverage nonzero triplets: 1372.6666666666667\t current margin value: 0.1\n",
      "Train: [0/16420 (0%)]\tLoss: 0.077571\tAverage nonzero triplets: 6740.0\n",
      "Epoch: 2/30. Train set: Average loss: 0.0782\tAverage nonzero triplets: 6303.333333333333\n",
      "Epoch: 2/30. Validation set: Average loss: 0.0593\tAverage nonzero triplets: 1362.0\t current margin value: 0.1\n",
      "Train: [0/16420 (0%)]\tLoss: 0.079883\tAverage nonzero triplets: 5967.0\n",
      "Epoch: 3/30. Train set: Average loss: 0.0772\tAverage nonzero triplets: 5479.277777777777\n",
      "Epoch: 3/30. Validation set: Average loss: 0.0772\tAverage nonzero triplets: 754.3333333333334\t current margin value: 0.1\n",
      "Train: [0/16420 (0%)]\tLoss: 0.079128\tAverage nonzero triplets: 4332.0\n",
      "Epoch: 4/30. Train set: Average loss: 0.0765\tAverage nonzero triplets: 4873.388888888889\n",
      "Epoch: 4/30. Validation set: Average loss: 0.0778\tAverage nonzero triplets: 614.6666666666666\t current margin value: 0.1\n",
      "Train: [0/16420 (0%)]\tLoss: 0.076059\tAverage nonzero triplets: 3907.0\n",
      "Epoch: 5/30. Train set: Average loss: 0.0758\tAverage nonzero triplets: 4493.888888888889\n",
      "Epoch: 5/30. Validation set: Average loss: 0.0795\tAverage nonzero triplets: 614.0\t current margin value: 0.1\n",
      "Train: [0/16420 (0%)]\tLoss: 0.074972\tAverage nonzero triplets: 4568.0\n",
      "Epoch: 6/30. Train set: Average loss: 0.0728\tAverage nonzero triplets: 3956.277777777778\n",
      "Epoch: 6/30. Validation set: Average loss: 0.0721\tAverage nonzero triplets: 406.6666666666667\t current margin value: 0.1\n",
      "Train: [0/16420 (0%)]\tLoss: 0.072216\tAverage nonzero triplets: 3696.0\n",
      "Epoch: 7/30. Train set: Average loss: 0.0741\tAverage nonzero triplets: 3570.0\n",
      "Epoch: 7/30. Validation set: Average loss: 0.0846\tAverage nonzero triplets: 385.3333333333333\t current margin value: 0.1\n",
      "Train: [0/16420 (0%)]\tLoss: 0.071972\tAverage nonzero triplets: 4148.0\n",
      "Epoch: 8/30. Train set: Average loss: 0.0709\tAverage nonzero triplets: 3087.1111111111113\n",
      "Epoch: 8/30. Validation set: Average loss: 0.0862\tAverage nonzero triplets: 350.0\t current margin value: 0.1\n",
      "Train: [0/16420 (0%)]\tLoss: 0.083292\tAverage nonzero triplets: 2672.0\n",
      "Epoch: 9/30. Train set: Average loss: 0.0729\tAverage nonzero triplets: 2842.0555555555557\n",
      "Epoch: 9/30. Validation set: Average loss: 0.0873\tAverage nonzero triplets: 350.3333333333333\t current margin value: 0.1\n",
      "Train: [0/16420 (0%)]\tLoss: 0.074267\tAverage nonzero triplets: 2192.0\n",
      "Epoch: 10/30. Train set: Average loss: 0.0694\tAverage nonzero triplets: 2308.4444444444443\n",
      "Epoch: 10/30. Validation set: Average loss: 0.0762\tAverage nonzero triplets: 331.6666666666667\t current margin value: 0.1\n",
      "Train: [0/16420 (0%)]\tLoss: 0.269881\tAverage nonzero triplets: 2632.0\n",
      "Epoch: 11/30. Train set: Average loss: 0.2697\tAverage nonzero triplets: 2334.8333333333335\n",
      "Epoch: 11/30. Validation set: Average loss: 0.2941\tAverage nonzero triplets: 325.0\t current margin value: 0.30000000000000004\n",
      "Train: [0/16420 (0%)]\tLoss: 0.471620\tAverage nonzero triplets: 1350.0\n",
      "Epoch: 12/30. Train set: Average loss: 0.4687\tAverage nonzero triplets: 2096.8333333333335\n",
      "Epoch: 12/30. Validation set: Average loss: 0.4937\tAverage nonzero triplets: 269.3333333333333\t current margin value: 0.5\n",
      "Train: [0/16420 (0%)]\tLoss: 0.670826\tAverage nonzero triplets: 2775.0\n",
      "Epoch: 13/30. Train set: Average loss: 0.6698\tAverage nonzero triplets: 2195.4444444444443\n",
      "Epoch: 13/30. Validation set: Average loss: 0.6989\tAverage nonzero triplets: 309.3333333333333\t current margin value: 0.7\n",
      "Train: [0/16420 (0%)]\tLoss: 0.669856\tAverage nonzero triplets: 1801.0\n",
      "Epoch: 14/30. Train set: Average loss: 0.6685\tAverage nonzero triplets: 1923.4444444444443\n",
      "Epoch: 14/30. Validation set: Average loss: 0.7096\tAverage nonzero triplets: 296.0\t current margin value: 0.7\n",
      "Train: [0/16420 (0%)]\tLoss: 0.664899\tAverage nonzero triplets: 1560.0\n",
      "Epoch: 15/30. Train set: Average loss: 0.6669\tAverage nonzero triplets: 1754.8333333333333\n",
      "Epoch: 15/30. Validation set: Average loss: 0.6965\tAverage nonzero triplets: 341.3333333333333\t current margin value: 0.7\n",
      "Train: [0/16420 (0%)]\tLoss: 0.666924\tAverage nonzero triplets: 1594.0\n",
      "Epoch: 16/30. Train set: Average loss: 0.6669\tAverage nonzero triplets: 1883.0\n",
      "Epoch: 16/30. Validation set: Average loss: 0.6899\tAverage nonzero triplets: 377.3333333333333\t current margin value: 0.7\n",
      "Train: [0/16420 (0%)]\tLoss: 0.669483\tAverage nonzero triplets: 1195.0\n",
      "Epoch: 17/30. Train set: Average loss: 0.6668\tAverage nonzero triplets: 1798.0\n",
      "Epoch: 17/30. Validation set: Average loss: 0.6986\tAverage nonzero triplets: 286.0\t current margin value: 0.7\n",
      "Train: [0/16420 (0%)]\tLoss: 0.661956\tAverage nonzero triplets: 972.0\n",
      "Epoch: 18/30. Train set: Average loss: 0.6651\tAverage nonzero triplets: 1858.7222222222222\n",
      "Epoch: 18/30. Validation set: Average loss: 0.6995\tAverage nonzero triplets: 326.0\t current margin value: 0.7\n",
      "Train: [0/16420 (0%)]\tLoss: 0.672611\tAverage nonzero triplets: 2207.0\n",
      "Epoch: 19/30. Train set: Average loss: 0.6659\tAverage nonzero triplets: 1786.111111111111\n",
      "Epoch: 19/30. Validation set: Average loss: 0.6889\tAverage nonzero triplets: 291.0\t current margin value: 0.7\n",
      "Train: [0/16420 (0%)]\tLoss: 0.670440\tAverage nonzero triplets: 2132.0\n",
      "Epoch: 20/30. Train set: Average loss: 0.6654\tAverage nonzero triplets: 1737.0\n",
      "Epoch: 20/30. Validation set: Average loss: 0.6852\tAverage nonzero triplets: 331.6666666666667\t current margin value: 0.7\n",
      "Train: [0/16420 (0%)]\tLoss: 0.663293\tAverage nonzero triplets: 1528.0\n",
      "Epoch: 21/30. Train set: Average loss: 0.6677\tAverage nonzero triplets: 1675.611111111111\n",
      "Epoch: 21/30. Validation set: Average loss: 0.6880\tAverage nonzero triplets: 308.3333333333333\t current margin value: 0.7\n",
      "Train: [0/16420 (0%)]\tLoss: 0.668341\tAverage nonzero triplets: 1932.0\n",
      "Epoch: 22/30. Train set: Average loss: 0.6663\tAverage nonzero triplets: 1686.3333333333333\n",
      "Epoch: 22/30. Validation set: Average loss: 0.6973\tAverage nonzero triplets: 371.6666666666667\t current margin value: 0.7\n",
      "Train: [0/16420 (0%)]\tLoss: 0.666598\tAverage nonzero triplets: 1535.0\n",
      "Epoch: 23/30. Train set: Average loss: 0.6650\tAverage nonzero triplets: 1671.8333333333333\n",
      "Epoch: 23/30. Validation set: Average loss: 0.6862\tAverage nonzero triplets: 277.0\t current margin value: 0.7\n",
      "Train: [0/16420 (0%)]\tLoss: 0.665369\tAverage nonzero triplets: 1531.0\n",
      "Epoch: 24/30. Train set: Average loss: 0.6651\tAverage nonzero triplets: 1644.2222222222222\n",
      "Epoch: 24/30. Validation set: Average loss: 0.6919\tAverage nonzero triplets: 341.0\t current margin value: 0.7\n",
      "Train: [0/16420 (0%)]\tLoss: 0.659656\tAverage nonzero triplets: 1370.0\n",
      "Epoch: 25/30. Train set: Average loss: 0.6653\tAverage nonzero triplets: 1756.3333333333333\n",
      "Epoch: 25/30. Validation set: Average loss: 0.7024\tAverage nonzero triplets: 289.3333333333333\t current margin value: 0.7\n",
      "Train: [0/16420 (0%)]\tLoss: 0.662024\tAverage nonzero triplets: 1428.0\n",
      "Epoch: 26/30. Train set: Average loss: 0.6661\tAverage nonzero triplets: 1494.4444444444443\n",
      "Epoch: 26/30. Validation set: Average loss: 0.7000\tAverage nonzero triplets: 337.3333333333333\t current margin value: 0.7\n",
      "Train: [0/16420 (0%)]\tLoss: 0.666188\tAverage nonzero triplets: 2120.0\n",
      "Epoch: 27/30. Train set: Average loss: 0.6668\tAverage nonzero triplets: 1691.5\n",
      "Epoch: 27/30. Validation set: Average loss: 0.6880\tAverage nonzero triplets: 301.0\t current margin value: 0.7\n",
      "Train: [0/16420 (0%)]\tLoss: 0.667904\tAverage nonzero triplets: 2183.0\n",
      "Epoch: 28/30. Train set: Average loss: 0.6667\tAverage nonzero triplets: 1646.7222222222222\n",
      "Epoch: 28/30. Validation set: Average loss: 0.6826\tAverage nonzero triplets: 306.6666666666667\t current margin value: 0.7\n",
      "Train: [0/16420 (0%)]\tLoss: 0.665602\tAverage nonzero triplets: 1113.0\n",
      "Epoch: 29/30. Train set: Average loss: 0.6648\tAverage nonzero triplets: 1511.5\n",
      "Epoch: 29/30. Validation set: Average loss: 0.6985\tAverage nonzero triplets: 339.0\t current margin value: 0.7\n",
      "Train: [0/16420 (0%)]\tLoss: 0.660549\tAverage nonzero triplets: 1358.0\n",
      "Epoch: 30/30. Train set: Average loss: 0.6673\tAverage nonzero triplets: 1606.7777777777778\n",
      "Epoch: 30/30. Validation set: Average loss: 0.6948\tAverage nonzero triplets: 283.6666666666667\t current margin value: 0.7\n"
     ]
    },
    {
     "data": {
      "image/png": "[encoded data removed]",
      "text/plain": [
       "<Figure size 432x288 with 1 Axes>"
      ]
     },
     "metadata": {
      "needs_background": "light"
     },
     "output_type": "display_data"
    },
    {
     "data": {
      "image/png": "[encoded data removed]",
      "text/plain": [
       "<Figure size 432x288 with 1 Axes>"
      ]
     },
     "metadata": {
      "needs_background": "light"
     },
     "output_type": "display_data"
    }
   ],
   "source": [
    "#Fit  the model!\n",
    "train_losses, val_losses, train_metrics, val_metrics = fit(online_train_loader, online_test_loader, \n",
    "                            model, loss_fn, optimizer, scheduler, \n",
    "                            n_epochs, cuda, log_interval, metrics=[AverageNonzeroTripletsMetric()], \n",
    "                            margin_setter= margin_selector)\n",
    "\n",
    "#plot losses\n",
    "plt.plot(train_losses, label = \"Training Set\" )\n",
    "plt.plot(val_losses, label = \"Validation Set\")\n",
    "plt.title(\"Loss\")\n",
    "plt.legend()\n",
    "plt.show()\n",
    "\n",
    "#plot metrics\n",
    "plt.plot(train_metrics, label = \"Training Set\" )\n",
    "plt.plot(val_metrics, label = \"Validation Set\")\n",
    "plt.title(\"Average Nonzero Triplets per Epoch\")\n",
    "plt.legend()\n",
    "plt.show()"
   ]
  },
  {
   "cell_type": "markdown",
   "metadata": {},
   "source": [
    "The jump up in the loss happens because we increase the margin at that point in training. \n",
    "\n",
    "The denominator for 'average nonzero triplets per epoch' is the number of triplets per batch. For training, there are 45 classes x 20 samples per batch. together, these can form 900 x (20-1) x (900-20) triplets, which is 15,048,000 total triplets. For validation, there are 8 classes x 20 samples per batch, making 400 x (20-1) x (400-20) triplets = 425,600 triplets. \n",
    "\n",
    "This means that in the final epoch, on average across batches, 0.01% of training triplets are non-zero and 0.07% of validation triplets are non-zero. "
   ]
  },
  {
   "cell_type": "code",
   "execution_count": 66,
   "metadata": {},
   "outputs": [],
   "source": [
    "torch.save(model, \"C:/Grad_School/Code_and_software/Py_code/similarity_scoring/syllable_triplet_network/trained_models/53_emd_July_22_02.pt\")"
   ]
  },
  {
   "cell_type": "markdown",
   "metadata": {},
   "source": [
    "### Calculate EMD"
   ]
  },
  {
   "cell_type": "code",
   "execution_count": 67,
   "metadata": {},
   "outputs": [],
   "source": [
    "tut_pup_dir = \"C:/Grad_School/Code_and_software/Py_code/similarity_scoring/tutor_pupil_dataset/Syll_specs_narrow_bandpass_70/\""
   ]
  },
  {
   "cell_type": "code",
   "execution_count": 68,
   "metadata": {},
   "outputs": [],
   "source": [
    "import dask\n",
    "from dask.distributed import Client"
   ]
  },
  {
   "cell_type": "code",
   "execution_count": 69,
   "metadata": {},
   "outputs": [
    {
     "data": {
      "text/plain": [
       "<dask.config.set at 0x1c366c6f2e0>"
      ]
     },
     "execution_count": 69,
     "metadata": {},
     "output_type": "execute_result"
    }
   ],
   "source": [
    "dask.config.set({'distributed.scheduler.worker-ttl': (10 * 60)})"
   ]
  },
  {
   "cell_type": "code",
   "execution_count": 70,
   "metadata": {},
   "outputs": [],
   "source": [
    "client = Client(n_workers=12)"
   ]
  },
  {
   "cell_type": "code",
   "execution_count": 71,
   "metadata": {},
   "outputs": [
    {
     "data": {
      "text/html": [
       "<div>\n",
       "    <div style=\"width: 24px; height: 24px; background-color: #e1e1e1; border: 3px solid #9D9D9D; border-radius: 5px; position: absolute;\"> </div>\n",
       "    <div style=\"margin-left: 48px;\">\n",
       "        <h3 style=\"margin-bottom: 0px;\">Client</h3>\n",
       "        <p style=\"color: #9D9D9D; margin-bottom: 0px;\">Client-f19b96b5-0a06-11ed-9df4-28dfeb5a3231</p>\n",
       "        <table style=\"width: 100%; text-align: left;\">\n",
       "\n",
       "        <tr>\n",
       "        \n",
       "            <td style=\"text-align: left;\"><strong>Connection method:</strong> Cluster object</td>\n",
       "            <td style=\"text-align: left;\"><strong>Cluster type:</strong> distributed.LocalCluster</td>\n",
       "        \n",
       "        </tr>\n",
       "\n",
       "        \n",
       "            <tr>\n",
       "                <td style=\"text-align: left;\">\n",
       "                    <strong>Dashboard: </strong> <a href=\"http://127.0.0.1:8787/status\" target=\"_blank\">http://127.0.0.1:8787/status</a>\n",
       "                </td>\n",
       "                <td style=\"text-align: left;\"></td>\n",
       "            </tr>\n",
       "        \n",
       "\n",
       "        </table>\n",
       "\n",
       "        \n",
       "            <details>\n",
       "            <summary style=\"margin-bottom: 20px;\"><h3 style=\"display: inline;\">Cluster Info</h3></summary>\n",
       "            <div class=\"jp-RenderedHTMLCommon jp-RenderedHTML jp-mod-trusted jp-OutputArea-output\">\n",
       "    <div style=\"width: 24px; height: 24px; background-color: #e1e1e1; border: 3px solid #9D9D9D; border-radius: 5px; position: absolute;\">\n",
       "    </div>\n",
       "    <div style=\"margin-left: 48px;\">\n",
       "        <h3 style=\"margin-bottom: 0px; margin-top: 0px;\">LocalCluster</h3>\n",
       "        <p style=\"color: #9D9D9D; margin-bottom: 0px;\">8e4443f8</p>\n",
       "        <table style=\"width: 100%; text-align: left;\">\n",
       "            <tr>\n",
       "                <td style=\"text-align: left;\">\n",
       "                    <strong>Dashboard:</strong> <a href=\"http://127.0.0.1:8787/status\" target=\"_blank\">http://127.0.0.1:8787/status</a>\n",
       "                </td>\n",
       "                <td style=\"text-align: left;\">\n",
       "                    <strong>Workers:</strong> 12\n",
       "                </td>\n",
       "            </tr>\n",
       "            <tr>\n",
       "                <td style=\"text-align: left;\">\n",
       "                    <strong>Total threads:</strong> 24\n",
       "                </td>\n",
       "                <td style=\"text-align: left;\">\n",
       "                    <strong>Total memory:</strong> 31.75 GiB\n",
       "                </td>\n",
       "            </tr>\n",
       "            \n",
       "            <tr>\n",
       "    <td style=\"text-align: left;\"><strong>Status:</strong> running</td>\n",
       "    <td style=\"text-align: left;\"><strong>Using processes:</strong> True</td>\n",
       "</tr>\n",
       "\n",
       "            \n",
       "        </table>\n",
       "\n",
       "        <details>\n",
       "            <summary style=\"margin-bottom: 20px;\">\n",
       "                <h3 style=\"display: inline;\">Scheduler Info</h3>\n",
       "            </summary>\n",
       "\n",
       "            <div style=\"\">\n",
       "    <div>\n",
       "        <div style=\"width: 24px; height: 24px; background-color: #FFF7E5; border: 3px solid #FF6132; border-radius: 5px; position: absolute;\"> </div>\n",
       "        <div style=\"margin-left: 48px;\">\n",
       "            <h3 style=\"margin-bottom: 0px;\">Scheduler</h3>\n",
       "            <p style=\"color: #9D9D9D; margin-bottom: 0px;\">Scheduler-99f0c1d0-c349-4db5-9acb-15d793cb3cee</p>\n",
       "            <table style=\"width: 100%; text-align: left;\">\n",
       "                <tr>\n",
       "                    <td style=\"text-align: left;\">\n",
       "                        <strong>Comm:</strong> tcp://127.0.0.1:56185\n",
       "                    </td>\n",
       "                    <td style=\"text-align: left;\">\n",
       "                        <strong>Workers:</strong> 12\n",
       "                    </td>\n",
       "                </tr>\n",
       "                <tr>\n",
       "                    <td style=\"text-align: left;\">\n",
       "                        <strong>Dashboard:</strong> <a href=\"http://127.0.0.1:8787/status\" target=\"_blank\">http://127.0.0.1:8787/status</a>\n",
       "                    </td>\n",
       "                    <td style=\"text-align: left;\">\n",
       "                        <strong>Total threads:</strong> 24\n",
       "                    </td>\n",
       "                </tr>\n",
       "                <tr>\n",
       "                    <td style=\"text-align: left;\">\n",
       "                        <strong>Started:</strong> Just now\n",
       "                    </td>\n",
       "                    <td style=\"text-align: left;\">\n",
       "                        <strong>Total memory:</strong> 31.75 GiB\n",
       "                    </td>\n",
       "                </tr>\n",
       "            </table>\n",
       "        </div>\n",
       "    </div>\n",
       "\n",
       "    <details style=\"margin-left: 48px;\">\n",
       "        <summary style=\"margin-bottom: 20px;\">\n",
       "            <h3 style=\"display: inline;\">Workers</h3>\n",
       "        </summary>\n",
       "\n",
       "        \n",
       "        <div style=\"margin-bottom: 20px;\">\n",
       "            <div style=\"width: 24px; height: 24px; background-color: #DBF5FF; border: 3px solid #4CC9FF; border-radius: 5px; position: absolute;\"> </div>\n",
       "            <div style=\"margin-left: 48px;\">\n",
       "            <details>\n",
       "                <summary>\n",
       "                    <h4 style=\"margin-bottom: 0px; display: inline;\">Worker: 0</h4>\n",
       "                </summary>\n",
       "                <table style=\"width: 100%; text-align: left;\">\n",
       "                    <tr>\n",
       "                        <td style=\"text-align: left;\">\n",
       "                            <strong>Comm: </strong> tcp://127.0.0.1:56303\n",
       "                        </td>\n",
       "                        <td style=\"text-align: left;\">\n",
       "                            <strong>Total threads: </strong> 2\n",
       "                        </td>\n",
       "                    </tr>\n",
       "                    <tr>\n",
       "                        <td style=\"text-align: left;\">\n",
       "                            <strong>Dashboard: </strong> <a href=\"http://127.0.0.1:56304/status\" target=\"_blank\">http://127.0.0.1:56304/status</a>\n",
       "                        </td>\n",
       "                        <td style=\"text-align: left;\">\n",
       "                            <strong>Memory: </strong> 2.65 GiB\n",
       "                        </td>\n",
       "                    </tr>\n",
       "                    <tr>\n",
       "                        <td style=\"text-align: left;\">\n",
       "                            <strong>Nanny: </strong> tcp://127.0.0.1:56196\n",
       "                        </td>\n",
       "                        <td style=\"text-align: left;\"></td>\n",
       "                    </tr>\n",
       "                    <tr>\n",
       "                        <td colspan=\"2\" style=\"text-align: left;\">\n",
       "                            <strong>Local directory: </strong> c:\\Grad_School\\Code_and_software\\Py_code\\similarity_scoring\\syllable_triplet_network\\syllable_triplet_network\\dask-worker-space\\worker-2awjlqhg\n",
       "                        </td>\n",
       "                    </tr>\n",
       "\n",
       "                    \n",
       "\n",
       "                    \n",
       "\n",
       "                </table>\n",
       "            </details>\n",
       "            </div>\n",
       "        </div>\n",
       "        \n",
       "        <div style=\"margin-bottom: 20px;\">\n",
       "            <div style=\"width: 24px; height: 24px; background-color: #DBF5FF; border: 3px solid #4CC9FF; border-radius: 5px; position: absolute;\"> </div>\n",
       "            <div style=\"margin-left: 48px;\">\n",
       "            <details>\n",
       "                <summary>\n",
       "                    <h4 style=\"margin-bottom: 0px; display: inline;\">Worker: 1</h4>\n",
       "                </summary>\n",
       "                <table style=\"width: 100%; text-align: left;\">\n",
       "                    <tr>\n",
       "                        <td style=\"text-align: left;\">\n",
       "                            <strong>Comm: </strong> tcp://127.0.0.1:56284\n",
       "                        </td>\n",
       "                        <td style=\"text-align: left;\">\n",
       "                            <strong>Total threads: </strong> 2\n",
       "                        </td>\n",
       "                    </tr>\n",
       "                    <tr>\n",
       "                        <td style=\"text-align: left;\">\n",
       "                            <strong>Dashboard: </strong> <a href=\"http://127.0.0.1:56287/status\" target=\"_blank\">http://127.0.0.1:56287/status</a>\n",
       "                        </td>\n",
       "                        <td style=\"text-align: left;\">\n",
       "                            <strong>Memory: </strong> 2.65 GiB\n",
       "                        </td>\n",
       "                    </tr>\n",
       "                    <tr>\n",
       "                        <td style=\"text-align: left;\">\n",
       "                            <strong>Nanny: </strong> tcp://127.0.0.1:56195\n",
       "                        </td>\n",
       "                        <td style=\"text-align: left;\"></td>\n",
       "                    </tr>\n",
       "                    <tr>\n",
       "                        <td colspan=\"2\" style=\"text-align: left;\">\n",
       "                            <strong>Local directory: </strong> c:\\Grad_School\\Code_and_software\\Py_code\\similarity_scoring\\syllable_triplet_network\\syllable_triplet_network\\dask-worker-space\\worker-oti89ebp\n",
       "                        </td>\n",
       "                    </tr>\n",
       "\n",
       "                    \n",
       "\n",
       "                    \n",
       "\n",
       "                </table>\n",
       "            </details>\n",
       "            </div>\n",
       "        </div>\n",
       "        \n",
       "        <div style=\"margin-bottom: 20px;\">\n",
       "            <div style=\"width: 24px; height: 24px; background-color: #DBF5FF; border: 3px solid #4CC9FF; border-radius: 5px; position: absolute;\"> </div>\n",
       "            <div style=\"margin-left: 48px;\">\n",
       "            <details>\n",
       "                <summary>\n",
       "                    <h4 style=\"margin-bottom: 0px; display: inline;\">Worker: 2</h4>\n",
       "                </summary>\n",
       "                <table style=\"width: 100%; text-align: left;\">\n",
       "                    <tr>\n",
       "                        <td style=\"text-align: left;\">\n",
       "                            <strong>Comm: </strong> tcp://127.0.0.1:56272\n",
       "                        </td>\n",
       "                        <td style=\"text-align: left;\">\n",
       "                            <strong>Total threads: </strong> 2\n",
       "                        </td>\n",
       "                    </tr>\n",
       "                    <tr>\n",
       "                        <td style=\"text-align: left;\">\n",
       "                            <strong>Dashboard: </strong> <a href=\"http://127.0.0.1:56274/status\" target=\"_blank\">http://127.0.0.1:56274/status</a>\n",
       "                        </td>\n",
       "                        <td style=\"text-align: left;\">\n",
       "                            <strong>Memory: </strong> 2.65 GiB\n",
       "                        </td>\n",
       "                    </tr>\n",
       "                    <tr>\n",
       "                        <td style=\"text-align: left;\">\n",
       "                            <strong>Nanny: </strong> tcp://127.0.0.1:56188\n",
       "                        </td>\n",
       "                        <td style=\"text-align: left;\"></td>\n",
       "                    </tr>\n",
       "                    <tr>\n",
       "                        <td colspan=\"2\" style=\"text-align: left;\">\n",
       "                            <strong>Local directory: </strong> c:\\Grad_School\\Code_and_software\\Py_code\\similarity_scoring\\syllable_triplet_network\\syllable_triplet_network\\dask-worker-space\\worker-d3fcl5sw\n",
       "                        </td>\n",
       "                    </tr>\n",
       "\n",
       "                    \n",
       "\n",
       "                    \n",
       "\n",
       "                </table>\n",
       "            </details>\n",
       "            </div>\n",
       "        </div>\n",
       "        \n",
       "        <div style=\"margin-bottom: 20px;\">\n",
       "            <div style=\"width: 24px; height: 24px; background-color: #DBF5FF; border: 3px solid #4CC9FF; border-radius: 5px; position: absolute;\"> </div>\n",
       "            <div style=\"margin-left: 48px;\">\n",
       "            <details>\n",
       "                <summary>\n",
       "                    <h4 style=\"margin-bottom: 0px; display: inline;\">Worker: 3</h4>\n",
       "                </summary>\n",
       "                <table style=\"width: 100%; text-align: left;\">\n",
       "                    <tr>\n",
       "                        <td style=\"text-align: left;\">\n",
       "                            <strong>Comm: </strong> tcp://127.0.0.1:56278\n",
       "                        </td>\n",
       "                        <td style=\"text-align: left;\">\n",
       "                            <strong>Total threads: </strong> 2\n",
       "                        </td>\n",
       "                    </tr>\n",
       "                    <tr>\n",
       "                        <td style=\"text-align: left;\">\n",
       "                            <strong>Dashboard: </strong> <a href=\"http://127.0.0.1:56279/status\" target=\"_blank\">http://127.0.0.1:56279/status</a>\n",
       "                        </td>\n",
       "                        <td style=\"text-align: left;\">\n",
       "                            <strong>Memory: </strong> 2.65 GiB\n",
       "                        </td>\n",
       "                    </tr>\n",
       "                    <tr>\n",
       "                        <td style=\"text-align: left;\">\n",
       "                            <strong>Nanny: </strong> tcp://127.0.0.1:56197\n",
       "                        </td>\n",
       "                        <td style=\"text-align: left;\"></td>\n",
       "                    </tr>\n",
       "                    <tr>\n",
       "                        <td colspan=\"2\" style=\"text-align: left;\">\n",
       "                            <strong>Local directory: </strong> c:\\Grad_School\\Code_and_software\\Py_code\\similarity_scoring\\syllable_triplet_network\\syllable_triplet_network\\dask-worker-space\\worker-vivyh1ze\n",
       "                        </td>\n",
       "                    </tr>\n",
       "\n",
       "                    \n",
       "\n",
       "                    \n",
       "\n",
       "                </table>\n",
       "            </details>\n",
       "            </div>\n",
       "        </div>\n",
       "        \n",
       "        <div style=\"margin-bottom: 20px;\">\n",
       "            <div style=\"width: 24px; height: 24px; background-color: #DBF5FF; border: 3px solid #4CC9FF; border-radius: 5px; position: absolute;\"> </div>\n",
       "            <div style=\"margin-left: 48px;\">\n",
       "            <details>\n",
       "                <summary>\n",
       "                    <h4 style=\"margin-bottom: 0px; display: inline;\">Worker: 4</h4>\n",
       "                </summary>\n",
       "                <table style=\"width: 100%; text-align: left;\">\n",
       "                    <tr>\n",
       "                        <td style=\"text-align: left;\">\n",
       "                            <strong>Comm: </strong> tcp://127.0.0.1:56300\n",
       "                        </td>\n",
       "                        <td style=\"text-align: left;\">\n",
       "                            <strong>Total threads: </strong> 2\n",
       "                        </td>\n",
       "                    </tr>\n",
       "                    <tr>\n",
       "                        <td style=\"text-align: left;\">\n",
       "                            <strong>Dashboard: </strong> <a href=\"http://127.0.0.1:56301/status\" target=\"_blank\">http://127.0.0.1:56301/status</a>\n",
       "                        </td>\n",
       "                        <td style=\"text-align: left;\">\n",
       "                            <strong>Memory: </strong> 2.65 GiB\n",
       "                        </td>\n",
       "                    </tr>\n",
       "                    <tr>\n",
       "                        <td style=\"text-align: left;\">\n",
       "                            <strong>Nanny: </strong> tcp://127.0.0.1:56192\n",
       "                        </td>\n",
       "                        <td style=\"text-align: left;\"></td>\n",
       "                    </tr>\n",
       "                    <tr>\n",
       "                        <td colspan=\"2\" style=\"text-align: left;\">\n",
       "                            <strong>Local directory: </strong> c:\\Grad_School\\Code_and_software\\Py_code\\similarity_scoring\\syllable_triplet_network\\syllable_triplet_network\\dask-worker-space\\worker-educj8cs\n",
       "                        </td>\n",
       "                    </tr>\n",
       "\n",
       "                    \n",
       "\n",
       "                    \n",
       "\n",
       "                </table>\n",
       "            </details>\n",
       "            </div>\n",
       "        </div>\n",
       "        \n",
       "        <div style=\"margin-bottom: 20px;\">\n",
       "            <div style=\"width: 24px; height: 24px; background-color: #DBF5FF; border: 3px solid #4CC9FF; border-radius: 5px; position: absolute;\"> </div>\n",
       "            <div style=\"margin-left: 48px;\">\n",
       "            <details>\n",
       "                <summary>\n",
       "                    <h4 style=\"margin-bottom: 0px; display: inline;\">Worker: 5</h4>\n",
       "                </summary>\n",
       "                <table style=\"width: 100%; text-align: left;\">\n",
       "                    <tr>\n",
       "                        <td style=\"text-align: left;\">\n",
       "                            <strong>Comm: </strong> tcp://127.0.0.1:56297\n",
       "                        </td>\n",
       "                        <td style=\"text-align: left;\">\n",
       "                            <strong>Total threads: </strong> 2\n",
       "                        </td>\n",
       "                    </tr>\n",
       "                    <tr>\n",
       "                        <td style=\"text-align: left;\">\n",
       "                            <strong>Dashboard: </strong> <a href=\"http://127.0.0.1:56298/status\" target=\"_blank\">http://127.0.0.1:56298/status</a>\n",
       "                        </td>\n",
       "                        <td style=\"text-align: left;\">\n",
       "                            <strong>Memory: </strong> 2.65 GiB\n",
       "                        </td>\n",
       "                    </tr>\n",
       "                    <tr>\n",
       "                        <td style=\"text-align: left;\">\n",
       "                            <strong>Nanny: </strong> tcp://127.0.0.1:56190\n",
       "                        </td>\n",
       "                        <td style=\"text-align: left;\"></td>\n",
       "                    </tr>\n",
       "                    <tr>\n",
       "                        <td colspan=\"2\" style=\"text-align: left;\">\n",
       "                            <strong>Local directory: </strong> c:\\Grad_School\\Code_and_software\\Py_code\\similarity_scoring\\syllable_triplet_network\\syllable_triplet_network\\dask-worker-space\\worker-4_vpd7dm\n",
       "                        </td>\n",
       "                    </tr>\n",
       "\n",
       "                    \n",
       "\n",
       "                    \n",
       "\n",
       "                </table>\n",
       "            </details>\n",
       "            </div>\n",
       "        </div>\n",
       "        \n",
       "        <div style=\"margin-bottom: 20px;\">\n",
       "            <div style=\"width: 24px; height: 24px; background-color: #DBF5FF; border: 3px solid #4CC9FF; border-radius: 5px; position: absolute;\"> </div>\n",
       "            <div style=\"margin-left: 48px;\">\n",
       "            <details>\n",
       "                <summary>\n",
       "                    <h4 style=\"margin-bottom: 0px; display: inline;\">Worker: 6</h4>\n",
       "                </summary>\n",
       "                <table style=\"width: 100%; text-align: left;\">\n",
       "                    <tr>\n",
       "                        <td style=\"text-align: left;\">\n",
       "                            <strong>Comm: </strong> tcp://127.0.0.1:56290\n",
       "                        </td>\n",
       "                        <td style=\"text-align: left;\">\n",
       "                            <strong>Total threads: </strong> 2\n",
       "                        </td>\n",
       "                    </tr>\n",
       "                    <tr>\n",
       "                        <td style=\"text-align: left;\">\n",
       "                            <strong>Dashboard: </strong> <a href=\"http://127.0.0.1:56292/status\" target=\"_blank\">http://127.0.0.1:56292/status</a>\n",
       "                        </td>\n",
       "                        <td style=\"text-align: left;\">\n",
       "                            <strong>Memory: </strong> 2.65 GiB\n",
       "                        </td>\n",
       "                    </tr>\n",
       "                    <tr>\n",
       "                        <td style=\"text-align: left;\">\n",
       "                            <strong>Nanny: </strong> tcp://127.0.0.1:56199\n",
       "                        </td>\n",
       "                        <td style=\"text-align: left;\"></td>\n",
       "                    </tr>\n",
       "                    <tr>\n",
       "                        <td colspan=\"2\" style=\"text-align: left;\">\n",
       "                            <strong>Local directory: </strong> c:\\Grad_School\\Code_and_software\\Py_code\\similarity_scoring\\syllable_triplet_network\\syllable_triplet_network\\dask-worker-space\\worker-6d7v52qf\n",
       "                        </td>\n",
       "                    </tr>\n",
       "\n",
       "                    \n",
       "\n",
       "                    \n",
       "\n",
       "                </table>\n",
       "            </details>\n",
       "            </div>\n",
       "        </div>\n",
       "        \n",
       "        <div style=\"margin-bottom: 20px;\">\n",
       "            <div style=\"width: 24px; height: 24px; background-color: #DBF5FF; border: 3px solid #4CC9FF; border-radius: 5px; position: absolute;\"> </div>\n",
       "            <div style=\"margin-left: 48px;\">\n",
       "            <details>\n",
       "                <summary>\n",
       "                    <h4 style=\"margin-bottom: 0px; display: inline;\">Worker: 7</h4>\n",
       "                </summary>\n",
       "                <table style=\"width: 100%; text-align: left;\">\n",
       "                    <tr>\n",
       "                        <td style=\"text-align: left;\">\n",
       "                            <strong>Comm: </strong> tcp://127.0.0.1:56273\n",
       "                        </td>\n",
       "                        <td style=\"text-align: left;\">\n",
       "                            <strong>Total threads: </strong> 2\n",
       "                        </td>\n",
       "                    </tr>\n",
       "                    <tr>\n",
       "                        <td style=\"text-align: left;\">\n",
       "                            <strong>Dashboard: </strong> <a href=\"http://127.0.0.1:56275/status\" target=\"_blank\">http://127.0.0.1:56275/status</a>\n",
       "                        </td>\n",
       "                        <td style=\"text-align: left;\">\n",
       "                            <strong>Memory: </strong> 2.65 GiB\n",
       "                        </td>\n",
       "                    </tr>\n",
       "                    <tr>\n",
       "                        <td style=\"text-align: left;\">\n",
       "                            <strong>Nanny: </strong> tcp://127.0.0.1:56194\n",
       "                        </td>\n",
       "                        <td style=\"text-align: left;\"></td>\n",
       "                    </tr>\n",
       "                    <tr>\n",
       "                        <td colspan=\"2\" style=\"text-align: left;\">\n",
       "                            <strong>Local directory: </strong> c:\\Grad_School\\Code_and_software\\Py_code\\similarity_scoring\\syllable_triplet_network\\syllable_triplet_network\\dask-worker-space\\worker-hpu6svqd\n",
       "                        </td>\n",
       "                    </tr>\n",
       "\n",
       "                    \n",
       "\n",
       "                    \n",
       "\n",
       "                </table>\n",
       "            </details>\n",
       "            </div>\n",
       "        </div>\n",
       "        \n",
       "        <div style=\"margin-bottom: 20px;\">\n",
       "            <div style=\"width: 24px; height: 24px; background-color: #DBF5FF; border: 3px solid #4CC9FF; border-radius: 5px; position: absolute;\"> </div>\n",
       "            <div style=\"margin-left: 48px;\">\n",
       "            <details>\n",
       "                <summary>\n",
       "                    <h4 style=\"margin-bottom: 0px; display: inline;\">Worker: 8</h4>\n",
       "                </summary>\n",
       "                <table style=\"width: 100%; text-align: left;\">\n",
       "                    <tr>\n",
       "                        <td style=\"text-align: left;\">\n",
       "                            <strong>Comm: </strong> tcp://127.0.0.1:56281\n",
       "                        </td>\n",
       "                        <td style=\"text-align: left;\">\n",
       "                            <strong>Total threads: </strong> 2\n",
       "                        </td>\n",
       "                    </tr>\n",
       "                    <tr>\n",
       "                        <td style=\"text-align: left;\">\n",
       "                            <strong>Dashboard: </strong> <a href=\"http://127.0.0.1:56282/status\" target=\"_blank\">http://127.0.0.1:56282/status</a>\n",
       "                        </td>\n",
       "                        <td style=\"text-align: left;\">\n",
       "                            <strong>Memory: </strong> 2.65 GiB\n",
       "                        </td>\n",
       "                    </tr>\n",
       "                    <tr>\n",
       "                        <td style=\"text-align: left;\">\n",
       "                            <strong>Nanny: </strong> tcp://127.0.0.1:56191\n",
       "                        </td>\n",
       "                        <td style=\"text-align: left;\"></td>\n",
       "                    </tr>\n",
       "                    <tr>\n",
       "                        <td colspan=\"2\" style=\"text-align: left;\">\n",
       "                            <strong>Local directory: </strong> c:\\Grad_School\\Code_and_software\\Py_code\\similarity_scoring\\syllable_triplet_network\\syllable_triplet_network\\dask-worker-space\\worker-83xsfr9i\n",
       "                        </td>\n",
       "                    </tr>\n",
       "\n",
       "                    \n",
       "\n",
       "                    \n",
       "\n",
       "                </table>\n",
       "            </details>\n",
       "            </div>\n",
       "        </div>\n",
       "        \n",
       "        <div style=\"margin-bottom: 20px;\">\n",
       "            <div style=\"width: 24px; height: 24px; background-color: #DBF5FF; border: 3px solid #4CC9FF; border-radius: 5px; position: absolute;\"> </div>\n",
       "            <div style=\"margin-left: 48px;\">\n",
       "            <details>\n",
       "                <summary>\n",
       "                    <h4 style=\"margin-bottom: 0px; display: inline;\">Worker: 9</h4>\n",
       "                </summary>\n",
       "                <table style=\"width: 100%; text-align: left;\">\n",
       "                    <tr>\n",
       "                        <td style=\"text-align: left;\">\n",
       "                            <strong>Comm: </strong> tcp://127.0.0.1:56294\n",
       "                        </td>\n",
       "                        <td style=\"text-align: left;\">\n",
       "                            <strong>Total threads: </strong> 2\n",
       "                        </td>\n",
       "                    </tr>\n",
       "                    <tr>\n",
       "                        <td style=\"text-align: left;\">\n",
       "                            <strong>Dashboard: </strong> <a href=\"http://127.0.0.1:56295/status\" target=\"_blank\">http://127.0.0.1:56295/status</a>\n",
       "                        </td>\n",
       "                        <td style=\"text-align: left;\">\n",
       "                            <strong>Memory: </strong> 2.65 GiB\n",
       "                        </td>\n",
       "                    </tr>\n",
       "                    <tr>\n",
       "                        <td style=\"text-align: left;\">\n",
       "                            <strong>Nanny: </strong> tcp://127.0.0.1:56189\n",
       "                        </td>\n",
       "                        <td style=\"text-align: left;\"></td>\n",
       "                    </tr>\n",
       "                    <tr>\n",
       "                        <td colspan=\"2\" style=\"text-align: left;\">\n",
       "                            <strong>Local directory: </strong> c:\\Grad_School\\Code_and_software\\Py_code\\similarity_scoring\\syllable_triplet_network\\syllable_triplet_network\\dask-worker-space\\worker-xggece8c\n",
       "                        </td>\n",
       "                    </tr>\n",
       "\n",
       "                    \n",
       "\n",
       "                    \n",
       "\n",
       "                </table>\n",
       "            </details>\n",
       "            </div>\n",
       "        </div>\n",
       "        \n",
       "        <div style=\"margin-bottom: 20px;\">\n",
       "            <div style=\"width: 24px; height: 24px; background-color: #DBF5FF; border: 3px solid #4CC9FF; border-radius: 5px; position: absolute;\"> </div>\n",
       "            <div style=\"margin-left: 48px;\">\n",
       "            <details>\n",
       "                <summary>\n",
       "                    <h4 style=\"margin-bottom: 0px; display: inline;\">Worker: 10</h4>\n",
       "                </summary>\n",
       "                <table style=\"width: 100%; text-align: left;\">\n",
       "                    <tr>\n",
       "                        <td style=\"text-align: left;\">\n",
       "                            <strong>Comm: </strong> tcp://127.0.0.1:56285\n",
       "                        </td>\n",
       "                        <td style=\"text-align: left;\">\n",
       "                            <strong>Total threads: </strong> 2\n",
       "                        </td>\n",
       "                    </tr>\n",
       "                    <tr>\n",
       "                        <td style=\"text-align: left;\">\n",
       "                            <strong>Dashboard: </strong> <a href=\"http://127.0.0.1:56286/status\" target=\"_blank\">http://127.0.0.1:56286/status</a>\n",
       "                        </td>\n",
       "                        <td style=\"text-align: left;\">\n",
       "                            <strong>Memory: </strong> 2.65 GiB\n",
       "                        </td>\n",
       "                    </tr>\n",
       "                    <tr>\n",
       "                        <td style=\"text-align: left;\">\n",
       "                            <strong>Nanny: </strong> tcp://127.0.0.1:56198\n",
       "                        </td>\n",
       "                        <td style=\"text-align: left;\"></td>\n",
       "                    </tr>\n",
       "                    <tr>\n",
       "                        <td colspan=\"2\" style=\"text-align: left;\">\n",
       "                            <strong>Local directory: </strong> c:\\Grad_School\\Code_and_software\\Py_code\\similarity_scoring\\syllable_triplet_network\\syllable_triplet_network\\dask-worker-space\\worker-7hjhncxx\n",
       "                        </td>\n",
       "                    </tr>\n",
       "\n",
       "                    \n",
       "\n",
       "                    \n",
       "\n",
       "                </table>\n",
       "            </details>\n",
       "            </div>\n",
       "        </div>\n",
       "        \n",
       "        <div style=\"margin-bottom: 20px;\">\n",
       "            <div style=\"width: 24px; height: 24px; background-color: #DBF5FF; border: 3px solid #4CC9FF; border-radius: 5px; position: absolute;\"> </div>\n",
       "            <div style=\"margin-left: 48px;\">\n",
       "            <details>\n",
       "                <summary>\n",
       "                    <h4 style=\"margin-bottom: 0px; display: inline;\">Worker: 11</h4>\n",
       "                </summary>\n",
       "                <table style=\"width: 100%; text-align: left;\">\n",
       "                    <tr>\n",
       "                        <td style=\"text-align: left;\">\n",
       "                            <strong>Comm: </strong> tcp://127.0.0.1:56306\n",
       "                        </td>\n",
       "                        <td style=\"text-align: left;\">\n",
       "                            <strong>Total threads: </strong> 2\n",
       "                        </td>\n",
       "                    </tr>\n",
       "                    <tr>\n",
       "                        <td style=\"text-align: left;\">\n",
       "                            <strong>Dashboard: </strong> <a href=\"http://127.0.0.1:56307/status\" target=\"_blank\">http://127.0.0.1:56307/status</a>\n",
       "                        </td>\n",
       "                        <td style=\"text-align: left;\">\n",
       "                            <strong>Memory: </strong> 2.65 GiB\n",
       "                        </td>\n",
       "                    </tr>\n",
       "                    <tr>\n",
       "                        <td style=\"text-align: left;\">\n",
       "                            <strong>Nanny: </strong> tcp://127.0.0.1:56193\n",
       "                        </td>\n",
       "                        <td style=\"text-align: left;\"></td>\n",
       "                    </tr>\n",
       "                    <tr>\n",
       "                        <td colspan=\"2\" style=\"text-align: left;\">\n",
       "                            <strong>Local directory: </strong> c:\\Grad_School\\Code_and_software\\Py_code\\similarity_scoring\\syllable_triplet_network\\syllable_triplet_network\\dask-worker-space\\worker-ni6qjj8g\n",
       "                        </td>\n",
       "                    </tr>\n",
       "\n",
       "                    \n",
       "\n",
       "                    \n",
       "\n",
       "                </table>\n",
       "            </details>\n",
       "            </div>\n",
       "        </div>\n",
       "        \n",
       "\n",
       "    </details>\n",
       "</div>\n",
       "\n",
       "        </details>\n",
       "    </div>\n",
       "</div>\n",
       "            </details>\n",
       "        \n",
       "\n",
       "    </div>\n",
       "</div>"
      ],
      "text/plain": [
       "<Client: 'tcp://127.0.0.1:56185' processes=12 threads=24, memory=31.75 GiB>"
      ]
     },
     "execution_count": 71,
     "metadata": {},
     "output_type": "execute_result"
    }
   ],
   "source": [
    "client"
   ]
  },
  {
   "cell_type": "code",
   "execution_count": 72,
   "metadata": {},
   "outputs": [],
   "source": [
    "@dask.delayed\n",
    "def dask_emd(x, y):\n",
    "    emd_val = emd(x, y)\n",
    "\n",
    "    return emd_val"
   ]
  },
  {
   "cell_type": "code",
   "execution_count": 73,
   "metadata": {},
   "outputs": [
    {
     "name": "stdout",
     "output_type": "stream",
     "text": [
      "G402\n",
      "Tutor Comparison Done\n",
      "Diff tutor done\n",
      "R402\n",
      "Tutor Comparison Done\n",
      "Diff tutor done\n",
      "G555\n",
      "Tutor Comparison Done\n",
      "Diff tutor done\n",
      "R629\n",
      "Tutor Comparison Done\n",
      "Diff tutor done\n",
      "Y653\n",
      "Tutor Comparison Done\n",
      "Diff tutor done\n",
      "G587\n",
      "Tutor Comparison Done\n",
      "Diff tutor done\n",
      "B555\n",
      "Tutor Comparison Done\n",
      "Diff tutor done\n",
      "O510\n",
      "Tutor Comparison Done\n",
      "Diff tutor done\n",
      "B447\n",
      "Tutor Comparison Done\n",
      "Diff tutor done\n",
      "S389\n",
      "Tutor Comparison Done\n",
      "Diff tutor done\n",
      "Y389\n",
      "Tutor Comparison Done\n",
      "Diff tutor done\n",
      "O421\n",
      "Tutor Comparison Done\n",
      "Diff tutor done\n",
      "S421\n",
      "Tutor Comparison Done\n",
      "Diff tutor done\n",
      "B402\n",
      "Tutor Comparison Done\n",
      "Diff tutor done\n",
      "Y433\n",
      "Tutor Comparison Done\n",
      "Diff tutor done\n",
      "O434\n",
      "Tutor Comparison Done\n",
      "Diff tutor done\n",
      "R469\n",
      "Tutor Comparison Done\n",
      "Diff tutor done\n",
      "S525\n",
      "Tutor Comparison Done\n",
      "Diff tutor done\n",
      "G413\n",
      "Tutor Comparison Done\n",
      "Diff tutor done\n",
      "G528\n",
      "Tutor Comparison Done\n",
      "Diff tutor done\n",
      "S528\n",
      "Tutor Comparison Done\n",
      "Diff tutor done\n",
      "G668\n",
      "Tutor Comparison Done\n",
      "Diff tutor done\n",
      "R509\n",
      "Tutor Comparison Done\n",
      "Diff tutor done\n",
      "Y354\n",
      "Tutor Comparison Done\n",
      "Diff tutor done\n",
      "G592\n",
      "Tutor Comparison Done\n",
      "Diff tutor done\n",
      "B573\n",
      "Tutor Comparison Done\n",
      "Diff tutor done\n",
      "R623\n",
      "Tutor Comparison Done\n",
      "Diff tutor done\n",
      "Y561\n",
      "Tutor Comparison Done\n",
      "Diff tutor done\n",
      "S561\n",
      "Tutor Comparison Done\n",
      "Diff tutor done\n",
      "Y654\n",
      "Tutor Comparison Done\n",
      "Diff tutor done\n",
      "O630\n",
      "Tutor Comparison Done\n",
      "Diff tutor done\n",
      "S565\n",
      "Tutor Comparison Done\n",
      "Diff tutor done\n",
      "B646\n",
      "Tutor Comparison Done\n",
      "Diff tutor done\n",
      "O670\n",
      "Tutor Comparison Done\n",
      "Diff tutor done\n",
      "R646\n",
      "Tutor Comparison Done\n",
      "Diff tutor done\n",
      "S636\n",
      "Tutor Comparison Done\n",
      "Diff tutor done\n"
     ]
    }
   ],
   "source": [
    "all_comparisons = pd.DataFrame()\n",
    "all_emds_computed = []\n",
    "\n",
    "n_dim = 8\n",
    "n_samples = 2000\n",
    "\n",
    "for n_rows in range(0, 36, 3):\n",
    "    sub_pairs_df = pairs_df[n_rows : n_rows + 3]\n",
    "\n",
    "    all_emds = []\n",
    "    for index, row in sub_pairs_df.iterrows():\n",
    "        Bird_ID = row.Bird_ID\n",
    "        Tut_ID = row.Tutor_ID\n",
    "        print(Bird_ID)\n",
    "\n",
    "        #compute embedding for current bird\n",
    "        curr_bird_embedding, curr_bird_labels = single_bird_extract_embeddings(Bird_ID, tut_pup_dir, model, n_dim=n_dim)\n",
    "        if curr_bird_embedding.shape[0]> n_samples:\n",
    "            curr_bird_embedding = sample_embedding_rows(curr_bird_embedding, n_samples)\n",
    "\n",
    "        #compute embedding for current bird's tutor\n",
    "        curr_tut_embedding, curr_tut_labels = single_bird_extract_embeddings(Tut_ID, tut_pup_dir, model, n_dim=n_dim)\n",
    "        if curr_tut_embedding.shape[0]> n_samples:\n",
    "            curr_tut_embedding = sample_embedding_rows(curr_tut_embedding, n_samples)\n",
    "\n",
    "\n",
    "        #calc emd for tutor-pupil\n",
    "        emd_val = dask_emd(curr_bird_embedding, curr_tut_embedding)\n",
    "        all_emds.append(emd_val)\n",
    "\n",
    "        #record emd in dataframe\n",
    "        curr_df = pd.DataFrame({\"Bird_ID\" : [Bird_ID], \n",
    "                                \"Comparison_Bird_ID\" : Tut_ID, \n",
    "                                \"Tutor_ID\" : Tut_ID,  \n",
    "                                \"Same_tut\": False, \n",
    "                                \"Tutor-pupil\": True, \n",
    "                                \"Self_comparison\": False})\n",
    "        all_comparisons = pd.concat([all_comparisons, curr_df])\n",
    "\n",
    "        print(\"Tutor Comparison Done\")\n",
    "\n",
    "        #select 3 random birds with a different tutor\n",
    "        diff_tut = pairs_df[pairs_df.Tutor_ID != Tut_ID]\n",
    "        diff_tut = diff_tut.sample(n = 3, replace = False)\n",
    "\n",
    "        #loop over birds with a different tutor\n",
    "        for sample_idx, diff_tut_row in diff_tut.iterrows():\n",
    "            diff_tut_Bird_ID = diff_tut_row.Bird_ID\n",
    "            #compute embedding for comparison bird\n",
    "            diff_tut_embedding, diff_tut_labels = single_bird_extract_embeddings(diff_tut_Bird_ID, tut_pup_dir, model, n_dim=n_dim)\n",
    "\n",
    "            if diff_tut_embedding.shape[0]> n_samples:\n",
    "                diff_tut_embedding = sample_embedding_rows(diff_tut_embedding, n_samples)\n",
    "\n",
    "\n",
    "            emd_val = dask_emd(diff_tut_embedding, curr_bird_embedding)\n",
    "            all_emds.append(emd_val)\n",
    "\n",
    "            curr_df = pd.DataFrame({\"Bird_ID\" : [Bird_ID], \n",
    "                                    \"Comparison_Bird_ID\" : diff_tut_Bird_ID, \n",
    "                                    \"Tutor_ID\" : Tut_ID, \n",
    "                                    \"Same_tut\": False, \n",
    "                                    \"Tutor-pupil\": False, \n",
    "                                    \"Self_comparison\": False})\n",
    "            #add emd to dataframe\n",
    "            all_comparisons = pd.concat([all_comparisons, curr_df])\n",
    "\n",
    "        print(\"Diff tutor done\")\n",
    "\n",
    "    all_emds_computed.append(dask.compute(*all_emds))"
   ]
  },
  {
   "cell_type": "code",
   "execution_count": 74,
   "metadata": {},
   "outputs": [],
   "source": [
    "flat_all_emds = [x for xs in all_emds_computed for x in xs]"
   ]
  },
  {
   "cell_type": "code",
   "execution_count": 75,
   "metadata": {},
   "outputs": [],
   "source": [
    "all_comparisons[\"EMD\"] = flat_all_emds"
   ]
  },
  {
   "cell_type": "code",
   "execution_count": 76,
   "metadata": {},
   "outputs": [],
   "source": [
    "all_comparisons.to_csv(\"C:/Grad_School/Code_and_software/Py_code/similarity_scoring/syllable_triplet_network/53_emd_July_22_02.csv\")"
   ]
  },
  {
   "cell_type": "markdown",
   "metadata": {},
   "source": [
    "### Plot Results"
   ]
  },
  {
   "cell_type": "code",
   "execution_count": 77,
   "metadata": {},
   "outputs": [],
   "source": [
    "all_comparisons[\"comparison_type\"] = \"unrelated_pair\"\n",
    "all_comparisons.loc[all_comparisons[\"Tutor-pupil\"], \"comparison_type\"] = \"tutor_pupil_pair\"\n",
    "all_comparisons.loc[all_comparisons[\"Same_tut\"], \"comparison_type\"] = \"same_tutor_pair\"\n",
    "all_comparisons.loc[all_comparisons[\"Self_comparison\"], \"comparison_type\"] = \"self_comparison\""
   ]
  },
  {
   "cell_type": "code",
   "execution_count": 78,
   "metadata": {},
   "outputs": [],
   "source": [
    "weird_bird_IDs = pairs_df[pairs_df.Bird_Condition == \"FP1KD_pre_tut\"].Bird_ID\n",
    "normal_bird_IDs = pairs_df[pairs_df.Bird_Condition != \"FP1KD_pre_tut\"].Bird_ID"
   ]
  },
  {
   "cell_type": "code",
   "execution_count": 79,
   "metadata": {},
   "outputs": [],
   "source": [
    "weird_bird_comparisons = all_comparisons[all_comparisons.Bird_ID.isin(weird_bird_IDs)]\n",
    "normal_bird_comparisons = all_comparisons[all_comparisons.Bird_ID.isin(normal_bird_IDs)]"
   ]
  },
  {
   "cell_type": "code",
   "execution_count": 80,
   "metadata": {},
   "outputs": [],
   "source": [
    "weird_bird_comparisons.reset_index(inplace = True)\n",
    "normal_bird_comparisons.reset_index(inplace = True)"
   ]
  },
  {
   "cell_type": "code",
   "execution_count": 81,
   "metadata": {},
   "outputs": [
    {
     "data": {
      "text/plain": [
       "Text(0.5, 1.0, 'Pupils Exhibiting Normal Learning')"
      ]
     },
     "execution_count": 81,
     "metadata": {},
     "output_type": "execute_result"
    },
    {
     "data": {
      "image/png": "[encoded data removed]",
      "text/plain": [
       "<Figure size 720x360 with 1 Axes>"
      ]
     },
     "metadata": {
      "needs_background": "light"
     },
     "output_type": "display_data"
    }
   ],
   "source": [
    "plt.figure(figsize = (10, 5))\n",
    "sns.kdeplot(data = normal_bird_comparisons, x = 'EMD', hue = 'comparison_type', common_norm = False, )\n",
    "plt.title(\"Pupils Exhibiting Normal Learning\")"
   ]
  },
  {
   "cell_type": "code",
   "execution_count": 82,
   "metadata": {},
   "outputs": [
    {
     "data": {
      "text/plain": [
       "Text(0.5, 1.0, 'Pupils Exhibiting Poor Learning')"
      ]
     },
     "execution_count": 82,
     "metadata": {},
     "output_type": "execute_result"
    },
    {
     "data": {
      "image/png": "[encoded data removed]",
      "text/plain": [
       "<Figure size 720x360 with 1 Axes>"
      ]
     },
     "metadata": {
      "needs_background": "light"
     },
     "output_type": "display_data"
    }
   ],
   "source": [
    "plt.figure(figsize = (10, 5))\n",
    "sns.kdeplot(data = weird_bird_comparisons, x = 'EMD', hue = 'comparison_type', common_norm = False)\n",
    "plt.title(\"Pupils Exhibiting Poor Learning\")"
   ]
  },
  {
   "cell_type": "code",
   "execution_count": 83,
   "metadata": {},
   "outputs": [
    {
     "name": "stderr",
     "output_type": "stream",
     "text": [
      "C:\\Users\\tkoch\\AppData\\Local\\Temp\\ipykernel_24052\\2299760330.py:1: SettingWithCopyWarning: \n",
      "A value is trying to be set on a copy of a slice from a DataFrame.\n",
      "Try using .loc[row_indexer,col_indexer] = value instead\n",
      "\n",
      "See the caveats in the documentation: https://pandas.pydata.org/pandas-docs/stable/user_guide/indexing.html#returning-a-view-versus-a-copy\n",
      "  normal_bird_comparisons.comparison_type = normal_bird_comparisons.comparison_type.astype(\"category\")\n",
      "C:\\Users\\tkoch\\AppData\\Local\\Temp\\ipykernel_24052\\2299760330.py:2: SettingWithCopyWarning: \n",
      "A value is trying to be set on a copy of a slice from a DataFrame.\n",
      "Try using .loc[row_indexer,col_indexer] = value instead\n",
      "\n",
      "See the caveats in the documentation: https://pandas.pydata.org/pandas-docs/stable/user_guide/indexing.html#returning-a-view-versus-a-copy\n",
      "  normal_bird_comparisons.comparison_type = normal_bird_comparisons.comparison_type.replace({'tutor_pupil_pair' : \"Pupil vs. Tutor\",\n",
      "C:\\Users\\tkoch\\AppData\\Local\\Temp\\ipykernel_24052\\2299760330.py:6: SettingWithCopyWarning: \n",
      "A value is trying to be set on a copy of a slice from a DataFrame.\n",
      "Try using .loc[row_indexer,col_indexer] = value instead\n",
      "\n",
      "See the caveats in the documentation: https://pandas.pydata.org/pandas-docs/stable/user_guide/indexing.html#returning-a-view-versus-a-copy\n",
      "  normal_bird_comparisons.comparison_type = normal_bird_comparisons.comparison_type.astype(\"category\").cat.reorder_categories([\n"
     ]
    }
   ],
   "source": [
    "normal_bird_comparisons.comparison_type = normal_bird_comparisons.comparison_type.astype(\"category\")\n",
    "normal_bird_comparisons.comparison_type = normal_bird_comparisons.comparison_type.replace({'tutor_pupil_pair' : \"Pupil vs. Tutor\", \n",
    "                                                        \n",
    "                                                            'unrelated_pair' : \"Pupil vs. Unrelated Bird\"})\n",
    "\n",
    "normal_bird_comparisons.comparison_type = normal_bird_comparisons.comparison_type.astype(\"category\").cat.reorder_categories([\n",
    "                                                                \"Pupil vs. Tutor\", \n",
    "                                                                \n",
    "                                                                \"Pupil vs. Unrelated Bird\"])"
   ]
  },
  {
   "cell_type": "code",
   "execution_count": 84,
   "metadata": {},
   "outputs": [
    {
     "name": "stderr",
     "output_type": "stream",
     "text": [
      "C:\\Users\\tkoch\\AppData\\Local\\Temp\\ipykernel_24052\\3226570718.py:1: SettingWithCopyWarning: \n",
      "A value is trying to be set on a copy of a slice from a DataFrame.\n",
      "Try using .loc[row_indexer,col_indexer] = value instead\n",
      "\n",
      "See the caveats in the documentation: https://pandas.pydata.org/pandas-docs/stable/user_guide/indexing.html#returning-a-view-versus-a-copy\n",
      "  weird_bird_comparisons.comparison_type = weird_bird_comparisons.comparison_type.astype(\"category\")\n",
      "C:\\Users\\tkoch\\AppData\\Local\\Temp\\ipykernel_24052\\3226570718.py:2: SettingWithCopyWarning: \n",
      "A value is trying to be set on a copy of a slice from a DataFrame.\n",
      "Try using .loc[row_indexer,col_indexer] = value instead\n",
      "\n",
      "See the caveats in the documentation: https://pandas.pydata.org/pandas-docs/stable/user_guide/indexing.html#returning-a-view-versus-a-copy\n",
      "  weird_bird_comparisons.comparison_type = weird_bird_comparisons.comparison_type.replace({'tutor_pupil_pair' : \"Pupil vs. Tutor\",\n",
      "C:\\Users\\tkoch\\AppData\\Local\\Temp\\ipykernel_24052\\3226570718.py:6: SettingWithCopyWarning: \n",
      "A value is trying to be set on a copy of a slice from a DataFrame.\n",
      "Try using .loc[row_indexer,col_indexer] = value instead\n",
      "\n",
      "See the caveats in the documentation: https://pandas.pydata.org/pandas-docs/stable/user_guide/indexing.html#returning-a-view-versus-a-copy\n",
      "  weird_bird_comparisons.comparison_type = weird_bird_comparisons.comparison_type.astype(\"category\").cat.reorder_categories([\n"
     ]
    }
   ],
   "source": [
    "weird_bird_comparisons.comparison_type = weird_bird_comparisons.comparison_type.astype(\"category\")\n",
    "weird_bird_comparisons.comparison_type = weird_bird_comparisons.comparison_type.replace({'tutor_pupil_pair' : \"Pupil vs. Tutor\", \n",
    "                                                        \n",
    "                                                            'unrelated_pair' : \"Pupil vs. Unrelated Bird\"})\n",
    "\n",
    "weird_bird_comparisons.comparison_type = weird_bird_comparisons.comparison_type.astype(\"category\").cat.reorder_categories([\n",
    "                                                                \"Pupil vs. Tutor\", \n",
    "                                                            \n",
    "                                                                \"Pupil vs. Unrelated Bird\"])"
   ]
  },
  {
   "cell_type": "code",
   "execution_count": 85,
   "metadata": {},
   "outputs": [
    {
     "data": {
      "text/plain": [
       "<seaborn.axisgrid.FacetGrid at 0x1c33e31abf0>"
      ]
     },
     "execution_count": 85,
     "metadata": {},
     "output_type": "execute_result"
    },
    {
     "data": {
      "image/png": "[encoded data removed]",
      "text/plain": [
       "<Figure size 873.25x360 with 2 Axes>"
      ]
     },
     "metadata": {
      "needs_background": "light"
     },
     "output_type": "display_data"
    }
   ],
   "source": [
    "g = sns.displot(normal_bird_comparisons, x = 'EMD', col = 'comparison_type', hue = 'comparison_type', alpha = 0.5,\n",
    "                 stat = 'probability', common_norm = False, bins = 15)\n",
    "g.set_axis_labels(\"$EMD$ Score\", \"Proportion of Pairwise Comparisons\")\n",
    "g.set_titles(\"{col_name}\")"
   ]
  },
  {
   "cell_type": "code",
   "execution_count": 86,
   "metadata": {},
   "outputs": [
    {
     "data": {
      "text/plain": [
       "<seaborn.axisgrid.FacetGrid at 0x1c346ba5390>"
      ]
     },
     "execution_count": 86,
     "metadata": {},
     "output_type": "execute_result"
    },
    {
     "data": {
      "image/png": "[encoded data removed]",
      "text/plain": [
       "<Figure size 873.25x360 with 2 Axes>"
      ]
     },
     "metadata": {
      "needs_background": "light"
     },
     "output_type": "display_data"
    }
   ],
   "source": [
    "g = sns.displot(weird_bird_comparisons, x = 'EMD', col = 'comparison_type', hue = 'comparison_type', alpha = 0.5,\n",
    "                 stat = 'probability', common_norm = False, bins = 15)\n",
    "g.set_axis_labels(\"$EMD$ Score\", \"Proportion of Pairwise Comparisons\")\n",
    "g.set_titles(\"{col_name}\")"
   ]
  },
  {
   "cell_type": "markdown",
   "metadata": {},
   "source": [
    "### Tutor Contrast Index"
   ]
  },
  {
   "cell_type": "code",
   "execution_count": 88,
   "metadata": {},
   "outputs": [],
   "source": [
    "tut_contrast_index_df = pd.DataFrame()\n",
    "\n",
    "for Bird_ID in np.unique(normal_bird_comparisons.Bird_ID):\n",
    "    tut_similarity = normal_bird_comparisons[(normal_bird_comparisons.Bird_ID == Bird_ID) & (normal_bird_comparisons.comparison_type == \"Pupil vs. Tutor\")].EMD.values\n",
    "    cross_similarity = normal_bird_comparisons[(normal_bird_comparisons.Bird_ID == Bird_ID) & (normal_bird_comparisons.comparison_type == \"Pupil vs. Unrelated Bird\")].EMD.values\n",
    "\n",
    "    contrast_index = (cross_similarity - tut_similarity) / (tut_similarity + cross_similarity)\n",
    "    curr_df = pd.DataFrame({\"Bird_ID\": Bird_ID, \n",
    "                            \"tut_similarity\" : [tut_similarity[0]], \n",
    "                            \"cross_similarity\" : [cross_similarity[0]], \n",
    "                            \"contrast_index\" : [contrast_index[0]]})\n",
    "    \n",
    "    tut_contrast_index_df = pd.concat([tut_contrast_index_df, curr_df])"
   ]
  },
  {
   "cell_type": "code",
   "execution_count": 89,
   "metadata": {},
   "outputs": [
    {
     "data": {
      "text/plain": [
       "(array([1., 0., 0., 4., 4., 4., 5., 6., 2., 4.]),\n",
       " array([-0.12103807, -0.07830725, -0.03557644,  0.00715438,  0.0498852 ,\n",
       "         0.09261602,  0.13534683,  0.17807765,  0.22080847,  0.26353929,\n",
       "         0.30627011]),\n",
       " <BarContainer object of 10 artists>)"
      ]
     },
     "execution_count": 89,
     "metadata": {},
     "output_type": "execute_result"
    },
    {
     "data": {
      "image/png": "[encoded data removed]",
      "text/plain": [
       "<Figure size 432x288 with 1 Axes>"
      ]
     },
     "metadata": {
      "needs_background": "light"
     },
     "output_type": "display_data"
    }
   ],
   "source": [
    "plt.hist(tut_contrast_index_df.contrast_index)"
   ]
  },
  {
   "cell_type": "code",
   "execution_count": 90,
   "metadata": {},
   "outputs": [
    {
     "data": {
      "text/plain": [
       "0.1451380956931589"
      ]
     },
     "execution_count": 90,
     "metadata": {},
     "output_type": "execute_result"
    }
   ],
   "source": [
    "tut_contrast_index_df.contrast_index.median()"
   ]
  },
  {
   "cell_type": "code",
   "execution_count": 97,
   "metadata": {},
   "outputs": [],
   "source": [
    "client.close()"
   ]
  }
 ],
 "metadata": {
  "kernelspec": {
   "display_name": "Python 3.10.4 ('pyemd_env')",
   "language": "python",
   "name": "python3"
  },
  "language_info": {
   "codemirror_mode": {
    "name": "ipython",
    "version": 3
   },
   "file_extension": ".py",
   "mimetype": "text/x-python",
   "name": "python",
   "nbconvert_exporter": "python",
   "pygments_lexer": "ipython3",
   "version": "3.10.4"
  },
  "orig_nbformat": 4,
  "vscode": {
   "interpreter": {
    "hash": "6988b57bee7ab362d5dd10bcb39a8479762972ca4941554c106dcf41eda153a2"
   }
  }
 },
 "nbformat": 4,
 "nbformat_minor": 2
}
